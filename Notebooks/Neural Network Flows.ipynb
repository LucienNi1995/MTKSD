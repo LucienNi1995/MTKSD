{
 "cells": [
  {
   "cell_type": "markdown",
   "metadata": {},
   "source": [
    "# Neural Network Flows\n",
    "\n",
    "ReLU network transport map on the synthetic examples"
   ]
  },
  {
   "cell_type": "code",
   "execution_count": null,
   "metadata": {},
   "outputs": [],
   "source": [
    "import torch\n",
    "import torch.nn as nn\n",
    "import torch.nn.functional as F\n",
    "\n",
    "import numpy as np\n",
    "import time\n",
    "\n",
    "import pyro \n",
    "import pyro.distributions as dist\n",
    "import pyro.distributions.transforms as T\n",
    "from pyro.nn import AutoRegressiveNN\n",
    "\n",
    "from MTKSD.loss import KSD_U, KSD_V, KSD_gammaU , Wasserstein, ELBO, KSD_U_nograd\n",
    "from MTKSD.get_score import get_score\n",
    "from MTKSD.plot import plot_dist2D, plot_loss, plot_scatter, get_distvals\n",
    "from MTKSD.toy_distributions import MOG2D, Banana2D, Sinusoidal2D\n",
    "from MTKSD.polynomial_transport import theta_init\n",
    "from MTKSD.neural_net_transport import ReLU_transport, transform_dist\n",
    "from MTKSD.utils import save_output, train_KSD, train_ELBO, get_metric, load_output\n",
    "\n",
    "import matplotlib\n",
    "import matplotlib.pyplot as plt\n",
    "from matplotlib import style\n",
    "\n",
    "plt.rcParams['figure.figsize'] = [6,6]\n",
    "\n",
    "style.use(\"ggplot\")\n",
    "matplotlib.rcParams['mathtext.fontset'] = 'stix'\n",
    "matplotlib.rcParams['font.family'] = 'STIXGeneral'\n"
   ]
  },
  {
   "cell_type": "markdown",
   "metadata": {},
   "source": [
    "## Defining test problems\n",
    "\n",
    "### Mixture of Gaussians"
   ]
  },
  {
   "cell_type": "code",
   "execution_count": null,
   "metadata": {},
   "outputs": [],
   "source": [
    "means = torch.Tensor([[1,1],[-1,1],[1,-1],[-1,-1]])\n",
    "var = 0.2\n",
    "\n",
    "mog2D = MOG2D(means, var)\n",
    "\n",
    "torch.manual_seed(0)\n",
    "mog2D_sample = mog2D.sample(10000)\n",
    "\n",
    "plot_dist2D(mog2D,[-3,3],[-3,3])"
   ]
  },
  {
   "cell_type": "markdown",
   "metadata": {},
   "source": [
    "### Banana"
   ]
  },
  {
   "cell_type": "code",
   "execution_count": null,
   "metadata": {},
   "outputs": [],
   "source": [
    "a,v1,v2 = 0.5,1,0.1\n",
    "var = [a,v1,v2]\n",
    "\n",
    "banana2D = Banana2D(var)\n",
    "\n",
    "torch.manual_seed(0)\n",
    "banana2D_sample = banana2D.sample(10000)\n",
    "\n",
    "plot_dist2D(banana2D, [-5,5], [-5,10])"
   ]
  },
  {
   "cell_type": "markdown",
   "metadata": {},
   "source": [
    "### Sinusoidal"
   ]
  },
  {
   "cell_type": "code",
   "execution_count": null,
   "metadata": {},
   "outputs": [],
   "source": [
    "a,v1,v2 = 1.2,1.3,0.001\n",
    "var = [a,v1,v2]\n",
    "\n",
    "sinusoidal2D = Sinusoidal2D(var)\n",
    "\n",
    "torch.manual_seed(0)\n",
    "sinusoidal2D_samp = sinusoidal2D.sample(10000)\n",
    "\n",
    "plot_dist2D(sinusoidal2D, [-3,3],[-1.5,1.5],n_steps=1200)"
   ]
  },
  {
   "cell_type": "markdown",
   "metadata": {},
   "source": [
    "## ReLU Network"
   ]
  },
  {
   "cell_type": "code",
   "execution_count": null,
   "metadata": {},
   "outputs": [],
   "source": [
    "class ReLU_Network(nn.Module):\n",
    "    \n",
    "    def __init__(self, input_dim, output_dim, hidden_dims):\n",
    "        super().__init__()\n",
    "        \n",
    "        self.input_dim = input_dim\n",
    "        self.output_dim = output_dim\n",
    "        \n",
    "        n_hidden = len(hidden_dims)\n",
    "        self.input = nn.Linear(input_dim, hidden_dims[0])\n",
    "        self.linears = ([nn.Linear(hidden_dims[i], hidden_dims[i+1]) for i in range(n_hidden - 1)])\n",
    "        self.output = nn.Linear(hidden_dims[-1], output_dim)\n",
    "        \n",
    "    def forward(self,x):\n",
    "        out = F.relu(self.input(x))\n",
    "        for i in self.linears:\n",
    "            out = F.relu(i(out))\n",
    "        out = self.output(out)\n",
    "        return out\n"
   ]
  },
  {
   "cell_type": "markdown",
   "metadata": {},
   "source": [
    "### Mixture of Gaussians"
   ]
  },
  {
   "cell_type": "code",
   "execution_count": null,
   "metadata": {},
   "outputs": [],
   "source": [
    "torch.manual_seed(11)\n",
    "\n",
    "input_dim = 4\n",
    "base_dist = dist.Normal(torch.zeros(input_dim), torch.ones(input_dim))\n",
    "relu_mog = ReLU_Network(input_dim,2,[20,20])\n",
    "transform_relu_mog = transform_dist(base_dist, [relu_mog])"
   ]
  },
  {
   "cell_type": "code",
   "execution_count": null,
   "metadata": {},
   "outputs": [],
   "source": [
    "class mv():\n",
    "    \n",
    "    def __init__(self, mvn):\n",
    "        self.mvn = mvn\n",
    "        \n",
    "    def log_prob(self,x):\n",
    "        return self.mvn.log_prob(x)\n",
    "    \n",
    "    def sample(self, n):\n",
    "        return self.mvn.sample(n)\n",
    "    \n",
    "    def score(self,x):\n",
    "        return get_score(x,self.mvn)\n",
    "        \n",
    "MV = mv(dist.MultivariateNormal(torch.zeros(2),2*torch.eye(2)))"
   ]
  },
  {
   "cell_type": "code",
   "execution_count": null,
   "metadata": {},
   "outputs": [],
   "source": [
    "train_KSD(transform_relu_mog, MV, relu_mog, \"\", save_out = False, n_steps = 10000) #pretrain"
   ]
  },
  {
   "cell_type": "code",
   "execution_count": null,
   "metadata": {},
   "outputs": [],
   "source": [
    "plot_dist2D(mog2D,[-3,3],[-3,3])\n",
    "plot_scatter(transform_relu_mog.sample((10000,)).detach(), color=\"cyan\",alpha=0.03)\n",
    "plt.xlim([-3,3])\n",
    "plt.ylim([-3,3])"
   ]
  },
  {
   "cell_type": "code",
   "execution_count": null,
   "metadata": {},
   "outputs": [],
   "source": [
    "train_KSD(transform_relu_mog, mog2D, relu_mog, \"\", save_out = False, n_steps = 50000)"
   ]
  },
  {
   "cell_type": "code",
   "execution_count": null,
   "metadata": {},
   "outputs": [],
   "source": [
    "wass_relu_mog, KSD_relu_mog = get_metric(transform_relu_mog, mog2D, mog2D_sample)\n",
    "print(wass_relu_mog, KSD_relu_mog)"
   ]
  },
  {
   "cell_type": "code",
   "execution_count": null,
   "metadata": {},
   "outputs": [],
   "source": [
    "plot_dist2D(mog2D,[-3,3],[-3,3])\n",
    "plot_scatter(transform_relu_mog.sample((10000,)).detach(), color=\"cyan\",alpha=0.03)\n",
    "plt.xlim([-3,3])\n",
    "plt.ylim([-3,3])"
   ]
  },
  {
   "cell_type": "markdown",
   "metadata": {},
   "source": [
    "### Banana"
   ]
  },
  {
   "cell_type": "code",
   "execution_count": null,
   "metadata": {},
   "outputs": [],
   "source": [
    "torch.manual_seed(0)\n",
    "\n",
    "input_dim = 4\n",
    "base_dist = dist.Normal(torch.zeros(input_dim), torch.ones(input_dim))\n",
    "relu_banana = ReLU_Network(input_dim,2,[20,20])\n",
    "transform_relu_banana = transform_dist(base_dist, [relu_banana])"
   ]
  },
  {
   "cell_type": "code",
   "execution_count": null,
   "metadata": {},
   "outputs": [],
   "source": [
    "train_KSD(transform_relu_banana, MV, relu_banana, \"\", save_out = False, n_steps = 10000) #pretrain"
   ]
  },
  {
   "cell_type": "code",
   "execution_count": null,
   "metadata": {},
   "outputs": [],
   "source": [
    "plot_dist2D(banana2D, [-5,5], [-5,10])\n",
    "\n",
    "plt.xlim([-3.5,3.5])\n",
    "plt.ylim([-2.5,7.5])\n",
    "\n",
    "plot_scatter(transform_relu_banana.sample((10000,)).detach(), color=\"cyan\", alpha=0.03)"
   ]
  },
  {
   "cell_type": "code",
   "execution_count": null,
   "metadata": {},
   "outputs": [],
   "source": [
    "train_KSD(transform_relu_banana, banana2D, relu_banana, \"relu_banana\", save_out = True, n_steps = 50000)"
   ]
  },
  {
   "cell_type": "code",
   "execution_count": null,
   "metadata": {},
   "outputs": [],
   "source": [
    "wass_relu_banana, KSD_relu_banana = get_metric(transform_relu_banana, banana2D, banana2D_sample)\n",
    "print(wass_relu_banana, KSD_relu_banana)"
   ]
  },
  {
   "cell_type": "code",
   "execution_count": null,
   "metadata": {},
   "outputs": [],
   "source": [
    "plot_dist2D(banana2D, [-5,5], [-5,10])\n",
    "\n",
    "plt.xlim([-3.5,3.5])\n",
    "plt.ylim([-2.5,7.5])\n",
    "\n",
    "plot_scatter(transform_relu_banana.sample((10000,)).detach(), color=\"cyan\", alpha=0.05,s=2)"
   ]
  },
  {
   "cell_type": "markdown",
   "metadata": {},
   "source": [
    "### Sinusoidal"
   ]
  },
  {
   "cell_type": "code",
   "execution_count": null,
   "metadata": {},
   "outputs": [],
   "source": [
    "torch.manual_seed(90)\n",
    "\n",
    "input_dim = 4\n",
    "base_dist = dist.Normal(torch.zeros(input_dim), torch.ones(input_dim))\n",
    "relu_sinusoidal = ReLU_Network(input_dim,2,[20,20])\n",
    "transform_relu_sinusoidal = transform_dist(base_dist, [relu_sinusoidal])"
   ]
  },
  {
   "cell_type": "code",
   "execution_count": null,
   "metadata": {},
   "outputs": [],
   "source": [
    "train_KSD(transform_relu_sinusoidal, MV, relu_sinusoidal, \"\", save_out = False, n_steps = 10000) #pretrain"
   ]
  },
  {
   "cell_type": "code",
   "execution_count": null,
   "metadata": {},
   "outputs": [],
   "source": [
    "plot_dist2D(sinusoidal2D, [-5,5], [-3,3])\n",
    "\n",
    "plt.xlim([-4,4])\n",
    "plt.ylim([-1.5,1.5])\n",
    "\n",
    "plot_scatter(transform_relu_sinusoidal.sample((10000,)).detach(), color=\"cyan\", alpha=0.03)"
   ]
  },
  {
   "cell_type": "code",
   "execution_count": null,
   "metadata": {},
   "outputs": [],
   "source": [
    "train_KSD(transform_relu_sinusoidal, sinusoidal2D, relu_sinusoidal, \"relu_sinusoidal\", save_out = True, n_steps = 50000)"
   ]
  },
  {
   "cell_type": "code",
   "execution_count": null,
   "metadata": {},
   "outputs": [],
   "source": [
    "wass_relu_sinusoidal, KSD_relu_sinusoidal = get_metric(transform_relu_sinusoidal, MV2, MV2.sample((10000,)))\n",
    "print(wass_relu_sinusoidal, KSD_relu_sinusoidal)"
   ]
  },
  {
   "cell_type": "code",
   "execution_count": null,
   "metadata": {},
   "outputs": [],
   "source": [
    "train_KSD(transform_relu_banana, banana2D, relu_banana, \"relu_banana\", save_out = True, n_steps = 50000)"
   ]
  },
  {
   "cell_type": "code",
   "execution_count": null,
   "metadata": {},
   "outputs": [],
   "source": [
    "KSD_U_nograd(torch.zeros(1000,2), sinusoidal2D.score,gamma=0.1)"
   ]
  },
  {
   "cell_type": "code",
   "execution_count": null,
   "metadata": {},
   "outputs": [],
   "source": [
    "wass_relu_sinusoidal, KSD_relu_sinusoidal = get_metric(transform_relu_sinusoidal, sinusoidal2D, sinusoidal2D_samp)\n",
    "print(wass_relu_sinusoidal, KSD_relu_sinusoidal)"
   ]
  },
  {
   "cell_type": "code",
   "execution_count": null,
   "metadata": {},
   "outputs": [],
   "source": [
    "plot_dist2D(sinusoidal2D, [-5,5], [-3,3])\n",
    "\n",
    "plt.xlim([-4,4])\n",
    "plt.ylim([-1.5,1.5])\n",
    "\n",
    "plot_scatter(transform_relu_sinusoidal.sample((10000,)).detach(), color=\"cyan\", alpha=0.03)"
   ]
  }
 ],
 "metadata": {
  "kernelspec": {
   "display_name": "Python 3",
   "language": "python",
   "name": "python3"
  },
  "language_info": {
   "codemirror_mode": {
    "name": "ipython",
    "version": 3
   },
   "file_extension": ".py",
   "mimetype": "text/x-python",
   "name": "python",
   "nbconvert_exporter": "python",
   "pygments_lexer": "ipython3",
   "version": "3.7.9"
  }
 },
 "nbformat": 4,
 "nbformat_minor": 4
}
